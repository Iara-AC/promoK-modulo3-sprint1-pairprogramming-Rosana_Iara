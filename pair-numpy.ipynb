{
 "cells": [
  {
   "cell_type": "code",
   "execution_count": 9,
   "metadata": {},
   "outputs": [],
   "source": [
    "# antes de empezar importamos la librería de NumPy para poder trabajar con todos sus métodos. \n",
    "import numpy as np"
   ]
  },
  {
   "cell_type": "markdown",
   "metadata": {},
   "source": [
    "Creación y Indexación:\n"
   ]
  },
  {
   "cell_type": "markdown",
   "metadata": {},
   "source": [
    "1) Crea un array 1D con 50 valores aleatorio del 10 al 99. Accede a los elementos en las posiciones múltiplos de 5."
   ]
  },
  {
   "cell_type": "code",
   "execution_count": 10,
   "metadata": {},
   "outputs": [
    {
     "name": "stdout",
     "output_type": "stream",
     "text": [
      "[59 10 23 79 32 18 60 74 49 22 80 29 70 57 85 87 47 25 82 76 94 97 15 63\n",
      " 45 21 26 36 49 83 73 73 78 70 54 81 21 14 48 78 94 71 23 87 34 90 15 92\n",
      " 18 93]\n",
      "------------------------------------------------------\n"
     ]
    },
    {
     "data": {
      "text/plain": [
       "array([32, 22, 85, 76, 45, 83, 54, 78, 34, 93])"
      ]
     },
     "execution_count": 10,
     "metadata": {},
     "output_type": "execute_result"
    }
   ],
   "source": [
    "# Crear el array\n",
    "\n",
    "array_1d = np.random.randint(10,99,50)\n",
    "\n",
    "print(array_1d)\n",
    "print (\"------------------------------------------------------\")\n",
    "array_1d[4:50:5]"
   ]
  },
  {
   "cell_type": "markdown",
   "metadata": {},
   "source": [
    "2) Crea un array 1D con 30 valores del 1 al 20 (ambos incluidos). Utiliza indexación para obtener los elementos en las posiciones impares."
   ]
  },
  {
   "cell_type": "code",
   "execution_count": 11,
   "metadata": {},
   "outputs": [
    {
     "name": "stdout",
     "output_type": "stream",
     "text": [
      "[10  4  7  5 15  9 10 12  9  5 16 12  9 12  4  2 14 15  6 20  5 15 13 18\n",
      "  2 14  7  1 17 13]\n",
      "------------------------------------------------------\n"
     ]
    },
    {
     "data": {
      "text/plain": [
       "array([ 4,  5,  9, 12,  5, 12, 12,  2, 15, 20, 15, 18, 14,  1, 13])"
      ]
     },
     "execution_count": 11,
     "metadata": {},
     "output_type": "execute_result"
    }
   ],
   "source": [
    "array2 = np.random.randint(1,21,30)\n",
    "\n",
    "print(array2)\n",
    "print (\"------------------------------------------------------\")\n",
    "array2[1:30:2]"
   ]
  },
  {
   "cell_type": "markdown",
   "metadata": {},
   "source": [
    "3) Crea un array 2D de forma (4, 6) con números aleatorios decimales (no deben estar comprendidos solo entre 0 y 1). Accede a la última fila de la matriz. Los decimales deben estar redondeados a 2 decimales."
   ]
  },
  {
   "cell_type": "code",
   "execution_count": 12,
   "metadata": {},
   "outputs": [
    {
     "name": "stdout",
     "output_type": "stream",
     "text": [
      "[[ 4.13 23.3   1.53  3.5  19.54 26.36]\n",
      " [23.01 11.65 11.97 31.33 26.37 43.08]\n",
      " [ 0.47 17.66 42.99 30.44 26.2  40.66]\n",
      " [46.   49.42 34.13 31.39  0.56 40.96]]\n",
      "------------------------------------------------------\n"
     ]
    },
    {
     "data": {
      "text/plain": [
       "array([46.  , 49.42, 34.13, 31.39,  0.56, 40.96])"
      ]
     },
     "execution_count": 12,
     "metadata": {},
     "output_type": "execute_result"
    }
   ],
   "source": [
    "array_2d = np.random.uniform(0,50, (4,6)).round(2)\n",
    "\n",
    "print(array_2d)\n",
    "print (\"------------------------------------------------------\")\n",
    "array_2d[3]"
   ]
  },
  {
   "cell_type": "markdown",
   "metadata": {},
   "source": [
    "4) BONUS: Crea un array 3D de forma (2, 3, 5) y 30 elementos con números enteros entre 0 y 100 (ambos incluidos). Reemplaza los elementos en posiciones múltiplos de 3 por 0."
   ]
  },
  {
   "cell_type": "code",
   "execution_count": 13,
   "metadata": {},
   "outputs": [
    {
     "name": "stdout",
     "output_type": "stream",
     "text": [
      "[[[ 6  2 30 43 71]\n",
      "  [99 29 58 13 13]\n",
      "  [ 0 79  4  4 47]]\n",
      "\n",
      " [[77 64 66 57 44]\n",
      "  [74 72 22 25 58]\n",
      "  [72 79 29 45 51]]]\n",
      "------------------------------------------------------\n",
      "[ 6  2 30 43 71 99 29 58 13 13  0 79  4  4 47 77 64 66 57 44 74 72 22 25\n",
      " 58 72 79 29 45 51]\n",
      "------------------------------------------------------\n",
      "[ 6  2  0 43 71  0 29 58  0 13  0  0  4  4  0 77 64  0 57 44  0 72 22  0\n",
      " 58 72  0 29 45  0]\n",
      "------------------------------------------------------\n",
      "[[[ 6  2  0 43 71]\n",
      "  [ 0 29 58  0 13]\n",
      "  [ 0  0  4  4  0]]\n",
      "\n",
      " [[77 64  0 57 44]\n",
      "  [ 0 72 22  0 58]\n",
      "  [72  0 29 45  0]]]\n"
     ]
    }
   ],
   "source": [
    "array_3d = np.random.randint(0,101, (2,3,5))\n",
    "\n",
    "print(array_3d)\n",
    "array_3d.size\n",
    "\n",
    "print (\"------------------------------------------------------\")\n",
    "array_flat = array_3d.flatten()\n",
    "print(array_flat)\n",
    "\n",
    "print (\"------------------------------------------------------\")\n",
    "\n",
    "array_flat[2::3] = 0 \n",
    "print(array_flat)\n",
    "print (\"------------------------------------------------------\")\n",
    "\n",
    "array_reshape = array_flat.reshape(2,3,5)\n",
    "print(array_reshape)\n"
   ]
  },
  {
   "cell_type": "markdown",
   "metadata": {},
   "source": [
    "Reshape y Transpose:\n"
   ]
  },
  {
   "cell_type": "markdown",
   "metadata": {},
   "source": [
    "1) Crea un array 3D de forma (2, 3, 4) con valores aleatorios entre 1 y 100 (ambos inclusive). Utiliza reshape para convertirlo en un array 2D. Deberás pensar en la forma que es correcta para hacer este cambio."
   ]
  },
  {
   "cell_type": "code",
   "execution_count": 14,
   "metadata": {},
   "outputs": [
    {
     "name": "stdout",
     "output_type": "stream",
     "text": [
      "[[[60 50 56  1]\n",
      "  [21 18 30 98]\n",
      "  [27  5 59 61]]\n",
      "\n",
      " [[91 73 38 50]\n",
      "  [79 57 18  8]\n",
      "  [44 96 55 56]]]\n",
      "------------------------------------------------------\n",
      "24\n",
      "------------------------------------------------------\n",
      "[[60 50 56  1]\n",
      " [21 18 30 98]\n",
      " [27  5 59 61]\n",
      " [91 73 38 50]\n",
      " [79 57 18  8]\n",
      " [44 96 55 56]]\n",
      "------------------------------------------------------\n",
      "[[60 50 56  1 21 18]\n",
      " [30 98 27  5 59 61]\n",
      " [91 73 38 50 79 57]\n",
      " [18  8 44 96 55 56]]\n"
     ]
    }
   ],
   "source": [
    "array3 = np.random.randint(0,101, (2,3,4))\n",
    "\n",
    "print(array3)\n",
    "print (\"------------------------------------------------------\")\n",
    "print(array3.size)\n",
    "print (\"------------------------------------------------------\")\n",
    "\n",
    "# Si queremos mantener la cantidad de columnas:\n",
    "nuevo_array = np.reshape(array3, (6,4))\n",
    "print(nuevo_array)\n",
    "print (\"------------------------------------------------------\")\n",
    "\n",
    "# Si no queremos mantener la cantidad de columnas:\n",
    "nuevo1_array = np.reshape(array3, (4,6))\n",
    "print(nuevo1_array)"
   ]
  },
  {
   "cell_type": "markdown",
   "metadata": {},
   "source": [
    "2) Crea un array 3D de forma (3, 4, 5) con valores enteros del 1 al 61 (sin incluir). Utiliza reshape para convertirlo en un array 2D."
   ]
  },
  {
   "cell_type": "code",
   "execution_count": 34,
   "metadata": {},
   "outputs": [
    {
     "name": "stdout",
     "output_type": "stream",
     "text": [
      "[[[ 1  2  3  4  5]\n",
      "  [ 6  7  8  9 10]\n",
      "  [11 12 13 14 15]\n",
      "  [16 17 18 19 20]]\n",
      "\n",
      " [[21 22 23 24 25]\n",
      "  [26 27 28 29 30]\n",
      "  [31 32 33 34 35]\n",
      "  [36 37 38 39 40]]\n",
      "\n",
      " [[41 42 43 44 45]\n",
      "  [46 47 48 49 50]\n",
      "  [51 52 53 54 55]\n",
      "  [56 57 58 59 60]]]\n",
      "------------------------------------------------------\n",
      "60\n",
      "------------------------------------------------------\n",
      "[[ 1  2  3  4  5]\n",
      " [ 6  7  8  9 10]\n",
      " [11 12 13 14 15]\n",
      " [16 17 18 19 20]\n",
      " [21 22 23 24 25]\n",
      " [26 27 28 29 30]\n",
      " [31 32 33 34 35]\n",
      " [36 37 38 39 40]\n",
      " [41 42 43 44 45]\n",
      " [46 47 48 49 50]\n",
      " [51 52 53 54 55]\n",
      " [56 57 58 59 60]]\n"
     ]
    }
   ],
   "source": [
    "d3_array = np.arange(1, 61).reshape(3, 4, 5)\n",
    "\n",
    "print(d3_array)\n",
    "print (\"------------------------------------------------------\")\n",
    "print(d3_array.size)\n",
    "print (\"------------------------------------------------------\")\n",
    "# Nuevo shape con lo mismo numero de columnas\n",
    "nuevo2_array = np.reshape(d3_array, (12,5))\n",
    "print(nuevo2_array)"
   ]
  },
  {
   "cell_type": "markdown",
   "metadata": {},
   "source": [
    "3) Utiliza el array 3D del ejercicio 2 de reshape. Utiliza transpose para permutar los ejes y obtener un nuevo array con forma (5, 4, 3)."
   ]
  },
  {
   "cell_type": "code",
   "execution_count": 35,
   "metadata": {},
   "outputs": [
    {
     "name": "stdout",
     "output_type": "stream",
     "text": [
      "\n",
      "Array con ejes permutados (5, 4, 3):\n",
      " [[[ 1 21 41]\n",
      "  [ 6 26 46]\n",
      "  [11 31 51]\n",
      "  [16 36 56]]\n",
      "\n",
      " [[ 2 22 42]\n",
      "  [ 7 27 47]\n",
      "  [12 32 52]\n",
      "  [17 37 57]]\n",
      "\n",
      " [[ 3 23 43]\n",
      "  [ 8 28 48]\n",
      "  [13 33 53]\n",
      "  [18 38 58]]\n",
      "\n",
      " [[ 4 24 44]\n",
      "  [ 9 29 49]\n",
      "  [14 34 54]\n",
      "  [19 39 59]]\n",
      "\n",
      " [[ 5 25 45]\n",
      "  [10 30 50]\n",
      "  [15 35 55]\n",
      "  [20 40 60]]]\n"
     ]
    }
   ],
   "source": [
    "array_permutado = d3_array.transpose(2, 1, 0)\n",
    "print(\"\\nArray con ejes permutados (5, 4, 3):\\n\", array_permutado)"
   ]
  },
  {
   "cell_type": "markdown",
   "metadata": {},
   "source": [
    "4) Utiliza el array 3D del ejercicio 2 de reshape. Utiliza transpose para cambiar el orden de los ejes y obtener un nuevo array con forma (3, 5, 4)."
   ]
  },
  {
   "cell_type": "code",
   "execution_count": 36,
   "metadata": {},
   "outputs": [
    {
     "name": "stdout",
     "output_type": "stream",
     "text": [
      "\n",
      "Array con ejes permutados (3,5,4):\n",
      " [[[ 1  6 11 16]\n",
      "  [ 2  7 12 17]\n",
      "  [ 3  8 13 18]\n",
      "  [ 4  9 14 19]\n",
      "  [ 5 10 15 20]]\n",
      "\n",
      " [[21 26 31 36]\n",
      "  [22 27 32 37]\n",
      "  [23 28 33 38]\n",
      "  [24 29 34 39]\n",
      "  [25 30 35 40]]\n",
      "\n",
      " [[41 46 51 56]\n",
      "  [42 47 52 57]\n",
      "  [43 48 53 58]\n",
      "  [44 49 54 59]\n",
      "  [45 50 55 60]]]\n"
     ]
    }
   ],
   "source": [
    "array_permutado2 = d3_array.transpose(0, 2, 1)\n",
    "print(\"\\nArray con ejes permutados (3,5,4):\\n\", array_permutado2)"
   ]
  },
  {
   "cell_type": "markdown",
   "metadata": {},
   "source": [
    "5) ¿Qué diferencia existe entre el reshape y el transpose?\n",
    "\n",
    "* La diferencia principal entre reshape y transpose es cómo cada uno reorganiza un array:\n",
    "\n",
    "* El **reshape** reorganiza el array 1D en una estructura 2D, pero mantiene el orden secuencial de los elementos.\n",
    "* Cambia la forma del array ajustando su número de dimensiones o el tamaño de cada dimensión.\n",
    "* No afecta la orientación de los ejes ni los datos subyacentes.\n",
    "\n",
    "* El **transpose** intercambia las filas y columnas del array, reorganizando los datos según la orientación de los ejes.\n",
    "* Permuta los ejes de un array, cambiando la orientación de los datos sin alterar su secuencia en la memoria.\n",
    "* Cambia la disposición de los datos en función de la ordenación de los ejes.\n",
    "* Se usa principalmente en arrays con más de una dimensión, ya que reorienta cómo se agrupan y acceden los datos en cada eje."
   ]
  },
  {
   "cell_type": "markdown",
   "metadata": {},
   "source": [
    "6) ¿Y entre el transpose y el swapaxes?\n",
    "\n",
    "**swapaxes**:\n",
    "* Intercambia solo dos ejes a la vez, sin afectar los demás.\n",
    "* Este método es útil cuando solo necesitas cambiar la posición de dos ejes específicos en un array multidimensional.\n",
    "\n",
    "Ambos métodos son útiles en diferentes situaciones:\n",
    "\n",
    "Usa **transpose** cuando necesitas una reorganización completa de los ejes.\n",
    "Usa **swapaxes** para intercambiar dos ejes específicos sin cambiar la disposición de los otros ejes."
   ]
  },
  {
   "cell_type": "markdown",
   "metadata": {},
   "source": [
    "Funciones Aritméticas y Estadísticas:\n"
   ]
  },
  {
   "cell_type": "markdown",
   "metadata": {},
   "source": [
    "1) Crea un array de tres 3D con elementos entre el 0 y 1 de forma (2, 3, 5) cuyos valores solo tengan 1 decimal.\n"
   ]
  },
  {
   "cell_type": "code",
   "execution_count": 40,
   "metadata": {},
   "outputs": [
    {
     "name": "stdout",
     "output_type": "stream",
     "text": [
      "[[[0.9 0.7 0.2 0.9 0.4]\n",
      "  [0.7 0.6 0.7 0.8 0.7]\n",
      "  [0.4 0.1 0.2 0.7 0.5]]\n",
      "\n",
      " [[0.1 1.  0.4 0.6 0.8]\n",
      "  [0.4 0.6 0.9 0.3 0.4]\n",
      "  [0.3 0.5 0.6 0.  0.8]]]\n"
     ]
    }
   ],
   "source": [
    "matriz_3d = np.random.rand(2,3,5).round(1)\n",
    "print(matriz_3d)"
   ]
  },
  {
   "cell_type": "markdown",
   "metadata": {},
   "source": [
    "2) Crea un array vacío con la misma forma y dimensiones que el array creado anteriormente. Vamos a reemplazar los valores de la matriz vacía que nos acabamos de crear pero basándonos en los valores del primer array bajo las siguientes condiciones:"
   ]
  },
  {
   "cell_type": "code",
   "execution_count": 61,
   "metadata": {},
   "outputs": [
    {
     "name": "stdout",
     "output_type": "stream",
     "text": [
      "[[[0.4 0.8 0.3 0.1 0.2]\n",
      "  [0.3 0.4 0.6 0.1 0.6]\n",
      "  [0.6 0.6 0.9 0.9 0.8]]\n",
      "\n",
      " [[0.7 0.4 0.5 0.2 0.2]\n",
      "  [0.1 0.7 0.1 0.  0.2]\n",
      "  [0.1 0.4 0.5 0.7 0.2]]]\n"
     ]
    }
   ],
   "source": [
    "matriz_vacia = np.random.random_sample((2,3,5)).round(1)\n",
    "\n",
    "print(matriz_vacia)"
   ]
  },
  {
   "cell_type": "code",
   "execution_count": 66,
   "metadata": {},
   "outputs": [
    {
     "name": "stdout",
     "output_type": "stream",
     "text": [
      "La media es: 0.41999999999999993\n",
      "El valor maximo es: 0.9\n",
      "El valor minimo es: 0.0\n",
      "------------------------------------------------------------------\n",
      "[[['C' 'B' 'C' 'C' 'C']\n",
      "  ['C' 'C' 'B' 'C' 'B']\n",
      "  ['B' 'B' 'D' 'D' 'B']]\n",
      "\n",
      " [['B' 'C' 'B' 'C' 'C']\n",
      "  ['C' 'B' 'C' 'E' 'C']\n",
      "  ['C' 'C' 'B' 'B' 'C']]]\n"
     ]
    }
   ],
   "source": [
    "# Si el valor del array es igual que la media, se reemplaza por \"A\".\n",
    "\n",
    "# Si el valor del array es mayor que la media, se reemplaza por \"B\".\n",
    "\n",
    "# Si el valor del array es menor que la media, se reemplaza por \"C\".\n",
    "\n",
    "# Si el valor es igual que el máximo, se reemplaza por \"D\".\n",
    "\n",
    "# Si el valor es igual que el mínimo, se reemplaza por \"E\".\n",
    "\n",
    "media = np.mean(matriz_vacia)\n",
    "maximo = np.max(matriz_vacia)\n",
    "minimo = np.min(matriz_vacia)\n",
    "\n",
    "                                   \n",
    "                                   \n",
    "\n",
    "print(\"La media es:\",media)\n",
    "print(\"El valor maximo es:\",maximo)\n",
    "print(\"El valor minimo es:\", minimo)\n",
    "\n",
    "print(\"------------------------------------------------------------------\")\n",
    "matriznueva = np.where(media == matriz_vacia, \"A\",\n",
    "                        np.where(maximo == matriz_vacia, \"D\",\n",
    "                            np.where(minimo == matriz_vacia, \"E\",\n",
    "                                np.where(media < matriz_vacia, \"B\",\"C\"))))\n",
    "\n",
    "print(matriznueva)"
   ]
  }
 ],
 "metadata": {
  "kernelspec": {
   "display_name": "base",
   "language": "python",
   "name": "python3"
  },
  "language_info": {
   "codemirror_mode": {
    "name": "ipython",
    "version": 3
   },
   "file_extension": ".py",
   "mimetype": "text/x-python",
   "name": "python",
   "nbconvert_exporter": "python",
   "pygments_lexer": "ipython3",
   "version": "3.12.4"
  }
 },
 "nbformat": 4,
 "nbformat_minor": 2
}
